{
 "cells": [
  {
   "cell_type": "code",
   "execution_count": null,
   "metadata": {},
   "outputs": [],
   "source": [
    "# Importing necessary packages\n",
    "import pandas as pd\n",
    "import numpy as np\n",
    "from mpl_toolkits.mplot3d import Axes3D\n",
    "import matplotlib.pyplot as plt\n",
    "%matplotlib notebook"
   ]
  },
  {
   "cell_type": "code",
   "execution_count": null,
   "metadata": {},
   "outputs": [],
   "source": [
    "# Generating scatter plot\n",
    "fig = plt.figure() # Create a canvas\n",
    "ax = fig.add_subplot(111, projection='3d') # Set projection to 3D\n",
    "\n",
    "x =[1,2,3,4,5,6,7,8,9,10,11,12,13,14,15]\n",
    "y =[5,2,4,3,5,3,12,14,1,3,5,7,9,11,13]\n",
    "z =[10,5,2,1,1,2,2,2,3,13,15,6,11,5,2]\n",
    "\n",
    "ax.scatter(x, y, z, c='b', marker='o')\n",
    "\n",
    "ax.set_xlabel('X Label')\n",
    "ax.set_ylabel('Y Label')\n",
    "ax.set_zlabel('Z Label')"
   ]
  },
  {
   "cell_type": "code",
   "execution_count": null,
   "metadata": {},
   "outputs": [],
   "source": [
    "# Generating Surface Plot\n",
    "x = np.outer(np.linspace(-4, 4, 20), np.ones(20))\n",
    "y = x.copy().T\n",
    "z = np.sin(x ** 1 + y ** 1)\n",
    "\n",
    "fig = plt.figure() # Create a canvas\n",
    "ax = plt.axes(projection='3d') # Set projection to 3D\n",
    "\n",
    "ax.plot_surface(x, y, z, color='b', linewidth=0)\n",
    "\n",
    "ax.set_xlabel('X Label')\n",
    "ax.set_ylabel('Y Label')\n",
    "ax.set_zlabel('Z Label')"
   ]
  },
  {
   "cell_type": "code",
   "execution_count": null,
   "metadata": {},
   "outputs": [],
   "source": [
    "# To know the current version of matplotlib\n",
    "import matplotlib\n",
    "matplotlib.__version__"
   ]
  }
 ],
 "metadata": {
  "kernelspec": {
   "display_name": "Python 3",
   "language": "python",
   "name": "python3"
  },
  "language_info": {
   "codemirror_mode": {
    "name": "ipython",
    "version": 3
   },
   "file_extension": ".py",
   "mimetype": "text/x-python",
   "name": "python",
   "nbconvert_exporter": "python",
   "pygments_lexer": "ipython3",
   "version": "3.7.1"
  }
 },
 "nbformat": 4,
 "nbformat_minor": 2
}
